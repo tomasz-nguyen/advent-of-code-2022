{
 "cells": [
  {
   "cell_type": "code",
   "execution_count": 1,
   "metadata": {},
   "outputs": [],
   "source": [
    "import networkx as nx"
   ]
  },
  {
   "cell_type": "code",
   "execution_count": 2,
   "metadata": {},
   "outputs": [],
   "source": [
    "with open(\"input.txt\") as file:\n",
    "    lines = file.read().splitlines()"
   ]
  },
  {
   "cell_type": "code",
   "execution_count": 3,
   "metadata": {},
   "outputs": [],
   "source": [
    "G = nx.Graph()\n",
    "\n",
    "G.add_node(\"/\", **{\"type\" : \"directory\", \"size\" : None})\n",
    "current_directory = [\"/\"]\n",
    "\n",
    "for line in lines:\n",
    "    current_directory_path = \" > \".join(current_directory)\n",
    "\n",
    "    # Ignore list\n",
    "    if line == \"$ ls\":\n",
    "        continue\n",
    "    \n",
    "    # Change directory commands\n",
    "    elif line[:4] == \"$ cd\":\n",
    "        # Reset the directory\n",
    "        if line == \"$ cd /\":\n",
    "            current_directory = [\"/\"]\n",
    "        # Move backwards\n",
    "        elif line == \"$ cd ..\":\n",
    "            current_directory.pop()\n",
    "        # Move forward\n",
    "        else:\n",
    "            current_directory.append(line[5:])\n",
    "\n",
    "    else:\n",
    "        # Directory node\n",
    "        if line[:3] == \"dir\":\n",
    "            node_name = current_directory_path +\" > \"+ line[4:]\n",
    "            node_attributes = {\"type\" : \"directory\", \"size\" : None}\n",
    "            edge_weight = None\n",
    "        # File node\n",
    "        else:\n",
    "            node_name = current_directory_path +\" > \"+ line.split(\" \")[1]\n",
    "            node_attributes = {\"type\" : \"file\", \"size\" : (size:=int(line.split(\" \")[0]))}\n",
    "            edge_weight = size\n",
    "\n",
    "        G.add_node(node_name, **node_attributes)\n",
    "        G.add_edge(current_directory_path, node_name, weight=edge_weight)"
   ]
  },
  {
   "cell_type": "code",
   "execution_count": 4,
   "metadata": {},
   "outputs": [],
   "source": [
    "nodes_with_no_size = [n for n,d in G.nodes(data=True) if d[\"size\"] is None]\n",
    "\n",
    "while len(nodes_with_no_size)>0:\n",
    "    for node in nodes_with_no_size:\n",
    "        neighbors_weight = [G.nodes[neighbor][\"size\"] for neighbor in nx.all_neighbors(G, node) if len(neighbor) > len(node)]\n",
    "        if None not in neighbors_weight:\n",
    "            G.nodes[node][\"size\"] = sum(neighbors_weight)\n",
    "            nodes_with_no_size.remove(node)"
   ]
  },
  {
   "cell_type": "code",
   "execution_count": 5,
   "metadata": {},
   "outputs": [
    {
     "data": {
      "text/plain": [
       "1297159"
      ]
     },
     "execution_count": 5,
     "metadata": {},
     "output_type": "execute_result"
    }
   ],
   "source": [
    "part_1 = [d[\"size\"] for n,d in G.nodes(data=True) if d[\"size\"] <= 100000 and d[\"type\"] == \"directory\"]\n",
    "sum(part_1)"
   ]
  },
  {
   "cell_type": "code",
   "execution_count": 6,
   "metadata": {},
   "outputs": [],
   "source": [
    "total_disk_space = 70000000\n",
    "minimum_unused = 30000000\n",
    "current_unused = total_disk_space - sum([d[\"size\"] for n,d in G.nodes(data=True) if d[\"type\"] == \"file\"])"
   ]
  },
  {
   "cell_type": "code",
   "execution_count": 7,
   "metadata": {},
   "outputs": [],
   "source": [
    "directories = [(d[\"size\"], n) for n,d in G.nodes(data=True) if d[\"type\"] == \"directory\"]"
   ]
  },
  {
   "cell_type": "code",
   "execution_count": 8,
   "metadata": {},
   "outputs": [
    {
     "name": "stdout",
     "output_type": "stream",
     "text": [
      "3866390\n"
     ]
    }
   ],
   "source": [
    "for dir in sorted(directories):\n",
    "    if current_unused+dir[0] >= minimum_unused:\n",
    "        print(dir[0])\n",
    "        break"
   ]
  },
  {
   "cell_type": "code",
   "execution_count": null,
   "metadata": {},
   "outputs": [],
   "source": []
  }
 ],
 "metadata": {
  "kernelspec": {
   "display_name": "Python 3.9.7 64-bit",
   "language": "python",
   "name": "python3"
  },
  "language_info": {
   "codemirror_mode": {
    "name": "ipython",
    "version": 3
   },
   "file_extension": ".py",
   "mimetype": "text/x-python",
   "name": "python",
   "nbconvert_exporter": "python",
   "pygments_lexer": "ipython3",
   "version": "3.9.7"
  },
  "orig_nbformat": 4,
  "vscode": {
   "interpreter": {
    "hash": "4e7ba3a8f915c95f7292b17fe3e81a2870adf22cf1c5db869767919356952299"
   }
  }
 },
 "nbformat": 4,
 "nbformat_minor": 2
}
