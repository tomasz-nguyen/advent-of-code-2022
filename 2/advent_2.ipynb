{
 "cells": [
  {
   "cell_type": "code",
   "execution_count": 1,
   "metadata": {},
   "outputs": [],
   "source": [
    "with open('input.txt') as f:\n",
    "    lines = f.readlines()"
   ]
  },
  {
   "cell_type": "code",
   "execution_count": 2,
   "metadata": {},
   "outputs": [],
   "source": [
    "rounds = [line.rstrip('\\n').split(\" \") for line in lines]"
   ]
  },
  {
   "cell_type": "code",
   "execution_count": 3,
   "metadata": {},
   "outputs": [],
   "source": [
    "choice_score = {\n",
    "    \"Rock\" : 1,\n",
    "    \"Paper\" : 2,\n",
    "    \"Scissors\" : 3\n",
    "}\n",
    "\n",
    "result_score = {\n",
    "    \"Won\" : 6,\n",
    "    \"Draw\" : 3,\n",
    "    \"Lost\" : 0,\n",
    "}\n",
    "\n",
    "combinations = {\n",
    "    (\"Rock\", \"Rock\") : \"Draw\",\n",
    "    (\"Paper\", \"Paper\") : \"Draw\",\n",
    "    (\"Scissors\", \"Scissors\") : \"Draw\",\n",
    "    \n",
    "    (\"Rock\", \"Scissors\") : \"Won\",\n",
    "    (\"Paper\", \"Rock\") : \"Won\",\n",
    "    (\"Scissors\", \"Paper\") : \"Won\",\n",
    "\n",
    "    (\"Scissors\", \"Rock\") : \"Lost\",\n",
    "    (\"Rock\", \"Paper\") : \"Lost\",\n",
    "    (\"Paper\", \"Scissors\") : \"Lost\",   \n",
    "}"
   ]
  },
  {
   "cell_type": "code",
   "execution_count": 4,
   "metadata": {},
   "outputs": [],
   "source": [
    "def rps_match_1(round):\n",
    "    choice = {\n",
    "        \"A\" : \"Rock\",\n",
    "        \"B\" : \"Paper\",\n",
    "        \"C\" : \"Scissors\",\n",
    "        \"X\" : \"Rock\",\n",
    "        \"Y\" : \"Paper\",\n",
    "        \"Z\" : \"Scissors\",\n",
    "    }\n",
    "\n",
    "    opponent_choice = choice[round[0]]\n",
    "    player_choice = choice[round[1]]\n",
    "\n",
    "    match = combinations[(player_choice, opponent_choice)]\n",
    "    match_score = result_score[match] \n",
    "    \n",
    "    player_choice_score = choice_score[player_choice]\n",
    "    round_score = player_choice_score + match_score\n",
    "    \n",
    "    return round_score"
   ]
  },
  {
   "cell_type": "code",
   "execution_count": 5,
   "metadata": {},
   "outputs": [
    {
     "data": {
      "text/plain": [
       "13675"
      ]
     },
     "execution_count": 5,
     "metadata": {},
     "output_type": "execute_result"
    }
   ],
   "source": [
    "scores_1 = map(rps_match_1, rounds)\n",
    "sum(scores_1)"
   ]
  },
  {
   "cell_type": "code",
   "execution_count": 6,
   "metadata": {},
   "outputs": [],
   "source": [
    "def rps_match_2(round):\n",
    "    choice = {\n",
    "        \"A\" : \"Rock\",\n",
    "        \"B\" : \"Paper\",\n",
    "        \"C\" : \"Scissors\",\n",
    "    }\n",
    "\n",
    "    desired_results = {\n",
    "        \"X\" : \"Lost\",\n",
    "        \"Y\" : \"Draw\",\n",
    "        \"Z\" : \"Won\",\n",
    "    }\n",
    "\n",
    "    opponent_choice = choice[round[0]]\n",
    "    player_desired_result = desired_results[round[1]]\n",
    "\n",
    "    desired_results_combinations =  [combination for combination, result in combinations.items() if result == player_desired_result]\n",
    "    player_choice = [combination[0] for combination in desired_results_combinations if combination[1] == opponent_choice ][0]\n",
    "\n",
    "    match_score = result_score[player_desired_result]\n",
    "    player_choice_score = choice_score[player_choice]\n",
    "\n",
    "    round_score = player_choice_score + match_score\n",
    "    return round_score\n",
    "    "
   ]
  },
  {
   "cell_type": "code",
   "execution_count": 7,
   "metadata": {},
   "outputs": [
    {
     "data": {
      "text/plain": [
       "14184"
      ]
     },
     "execution_count": 7,
     "metadata": {},
     "output_type": "execute_result"
    }
   ],
   "source": [
    "scores_2 = map(rps_match_2, rounds)\n",
    "sum(scores_2)"
   ]
  }
 ],
 "metadata": {
  "kernelspec": {
   "display_name": "Python 3.9.7 64-bit",
   "language": "python",
   "name": "python3"
  },
  "language_info": {
   "codemirror_mode": {
    "name": "ipython",
    "version": 3
   },
   "file_extension": ".py",
   "mimetype": "text/x-python",
   "name": "python",
   "nbconvert_exporter": "python",
   "pygments_lexer": "ipython3",
   "version": "3.9.7"
  },
  "orig_nbformat": 4,
  "vscode": {
   "interpreter": {
    "hash": "4e7ba3a8f915c95f7292b17fe3e81a2870adf22cf1c5db869767919356952299"
   }
  }
 },
 "nbformat": 4,
 "nbformat_minor": 2
}
