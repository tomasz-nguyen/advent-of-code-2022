{
 "cells": [
  {
   "cell_type": "code",
   "execution_count": 14,
   "metadata": {},
   "outputs": [],
   "source": [
    "from copy import deepcopy"
   ]
  },
  {
   "cell_type": "code",
   "execution_count": 15,
   "metadata": {},
   "outputs": [],
   "source": [
    "lines = [\n",
    "\"Monkey 0:\",\n",
    "\"  Starting items: 79, 98\",\n",
    "\"  Operation: new = old * 19\",\n",
    "\"  Test: divisible by 23\",\n",
    "\"    If true: throw to monkey 2\",\n",
    "\"    If false: throw to monkey 3\",\n",
    "\"\",\n",
    "\"Monkey 1:\",\n",
    "\"  Starting items: 54, 65, 75, 74\",\n",
    "\"  Operation: new = old + 6\",\n",
    "\"  Test: divisible by 19\",\n",
    "\"    If true: throw to monkey 2\",\n",
    "\"    If false: throw to monkey 0\",\n",
    "\"\",\n",
    "\"Monkey 2:\",\n",
    "\"  Starting items: 79, 60, 97\",\n",
    "\"  Operation: new = old * old\",\n",
    "\"  Test: divisible by 13\",\n",
    "\"    If true: throw to monkey 1\",\n",
    "\"    If false: throw to monkey 3\",\n",
    "\"\",\n",
    "\"Monkey 3:\",\n",
    "\"  Starting items: 74\",\n",
    "\"  Operation: new = old + 3\",\n",
    "\"  Test: divisible by 17\",\n",
    "\"    If true: throw to monkey 0\",\n",
    "\"    If false: throw to monkey 1\",\n",
    "]"
   ]
  },
  {
   "cell_type": "code",
   "execution_count": 20,
   "metadata": {},
   "outputs": [],
   "source": [
    "with open(\"input.txt\") as file:\n",
    "    lines = file.read().splitlines()"
   ]
  },
  {
   "cell_type": "code",
   "execution_count": 21,
   "metadata": {},
   "outputs": [],
   "source": [
    "monkeys = {}\n",
    "\n",
    "monkey_id = None\n",
    "for line in lines:\n",
    "    if line[:6] == \"Monkey\":\n",
    "        monkey_id = int(line[7])\n",
    "        monkeys[monkey_id] = {}\n",
    "\n",
    "    if (\"Starting items\") in line:\n",
    "        items = line[18:].split(\",\")\n",
    "        items = [int(item) for item in items]\n",
    "        monkeys[monkey_id][\"Starting items\"] = items\n",
    "\n",
    "    if (\"Operation\") in line:\n",
    "        operation = line[19:]\n",
    "        monkeys[monkey_id][\"Operation\"] = operation\n",
    "\n",
    "    if (\"Test\") in line:\n",
    "        divisible_by = int(line[21:])\n",
    "        monkeys[monkey_id][\"Test\"] = {\"Divisor\" : divisible_by}\n",
    "\n",
    "    if (\"If true\") in line:\n",
    "        test_true = int(line[29:])\n",
    "        monkeys[monkey_id][\"Test\"][True] = test_true\n",
    "\n",
    "    if (\"If false\") in line:\n",
    "        test_false = int(line[30:])\n",
    "        monkeys[monkey_id][\"Test\"][False] = test_false"
   ]
  },
  {
   "cell_type": "code",
   "execution_count": 22,
   "metadata": {},
   "outputs": [],
   "source": [
    "monkeys_1 = deepcopy(monkeys)\n",
    "monkey_inspect_log_1 ={key:0 for key in monkeys_1.keys()}\n",
    "\n",
    "for i in range(20):\n",
    "    for monkey_id, instructions in monkeys_1.items():\n",
    "        if instructions[\"Starting items\"]:\n",
    "            for i in range(len(instructions[\"Starting items\"])):\n",
    "                old = instructions[\"Starting items\"].pop(0)\n",
    "                monkey_inspect_log_1[monkey_id] += 1\n",
    "                worry_level = eval(instructions[\"Operation\"]) // 3\n",
    "                divisor = instructions[\"Test\"][\"Divisor\"]\n",
    "                test = worry_level%divisor == 0\n",
    "                \n",
    "                if test:\n",
    "                    pass_monkey_id = instructions[\"Test\"][True]\n",
    "                else:\n",
    "                    pass_monkey_id = instructions[\"Test\"][False]\n",
    "\n",
    "                monkeys_1[pass_monkey_id][\"Starting items\"].append(worry_level)    "
   ]
  },
  {
   "cell_type": "code",
   "execution_count": 24,
   "metadata": {},
   "outputs": [],
   "source": [
    "part_1_top_2 = sorted([v for k, v in monkey_inspect_log_1.items()], reverse=True)[:2]"
   ]
  },
  {
   "cell_type": "code",
   "execution_count": 25,
   "metadata": {},
   "outputs": [
    {
     "data": {
      "text/plain": [
       "57348"
      ]
     },
     "execution_count": 25,
     "metadata": {},
     "output_type": "execute_result"
    }
   ],
   "source": [
    "part_1_top_2[0]*part_1_top_2[1]"
   ]
  },
  {
   "cell_type": "code",
   "execution_count": 26,
   "metadata": {},
   "outputs": [],
   "source": [
    "monkeys_2 = deepcopy(monkeys)\n",
    "monkey_inspect_log_2 ={key:0 for key in monkeys_1.keys()}\n",
    "\n",
    "for i in range(10000):\n",
    "    for monkey_id, instructions in monkeys_2.items():\n",
    "        if (items_n := len(instructions[\"Starting items\"])) > 0:\n",
    "            for i in range(items_n):\n",
    "                old = instructions[\"Starting items\"].pop(0)\n",
    "                monkey_inspect_log_2[monkey_id] += 1\n",
    "                worry_level = eval(instructions[\"Operation\"]) % (2*3*5*7*11*13*17*19)\n",
    "                divisor = instructions[\"Test\"][\"Divisor\"]\n",
    "                test = worry_level%divisor == 0\n",
    "                \n",
    "                if test:\n",
    "                    pass_monkey_id = instructions[\"Test\"][True]\n",
    "                else:\n",
    "                    pass_monkey_id = instructions[\"Test\"][False]\n",
    "\n",
    "                monkeys_2[pass_monkey_id][\"Starting items\"].append(worry_level)   "
   ]
  },
  {
   "cell_type": "code",
   "execution_count": 28,
   "metadata": {},
   "outputs": [],
   "source": [
    "part_2_top_2 = sorted([v for k, v in monkey_inspect_log_2.items()], reverse=True)[:2]"
   ]
  },
  {
   "cell_type": "code",
   "execution_count": 29,
   "metadata": {},
   "outputs": [
    {
     "data": {
      "text/plain": [
       "14106266886"
      ]
     },
     "execution_count": 29,
     "metadata": {},
     "output_type": "execute_result"
    }
   ],
   "source": [
    "part_2_top_2[0]*part_2_top_2[1]"
   ]
  },
  {
   "cell_type": "code",
   "execution_count": null,
   "metadata": {},
   "outputs": [],
   "source": []
  }
 ],
 "metadata": {
  "kernelspec": {
   "display_name": "Python 3",
   "language": "python",
   "name": "python3"
  },
  "language_info": {
   "codemirror_mode": {
    "name": "ipython",
    "version": 3
   },
   "file_extension": ".py",
   "mimetype": "text/x-python",
   "name": "python",
   "nbconvert_exporter": "python",
   "pygments_lexer": "ipython3",
   "version": "3.9.6"
  },
  "orig_nbformat": 4,
  "vscode": {
   "interpreter": {
    "hash": "31f2aee4e71d21fbe5cf8b01ff0e069b9275f58929596ceb00d14d90e3e16cd6"
   }
  }
 },
 "nbformat": 4,
 "nbformat_minor": 2
}
