{
 "cells": [
  {
   "cell_type": "code",
   "execution_count": 1,
   "metadata": {},
   "outputs": [],
   "source": [
    "with open('input.txt') as f:\n",
    "    lines = f.readlines()\n",
    "\n",
    "rucksacks = [line.replace(\"\\n\",\"\") for line in lines]"
   ]
  },
  {
   "cell_type": "code",
   "execution_count": 2,
   "metadata": {},
   "outputs": [],
   "source": [
    "def priority_scores(items):\n",
    "    return [ord(item)-96 if item.islower() else ord(item)-38 for item in items]"
   ]
  },
  {
   "cell_type": "code",
   "execution_count": 3,
   "metadata": {},
   "outputs": [],
   "source": [
    "def duplicate_priority(rucksack):\n",
    "    number_of_compartment_items = int(len(rucksack)/2)\n",
    "    compartment_1 = rucksack[:number_of_compartment_items]\n",
    "    compartment_2 = rucksack[number_of_compartment_items:]\n",
    "\n",
    "    duplicates = list(set(compartment_1).intersection(compartment_2))\n",
    "\n",
    "    duplicates_priorities = priority_scores(duplicates)\n",
    "\n",
    "    return sum(duplicates_priorities)"
   ]
  },
  {
   "cell_type": "code",
   "execution_count": 4,
   "metadata": {},
   "outputs": [
    {
     "data": {
      "text/plain": [
       "7848"
      ]
     },
     "execution_count": 4,
     "metadata": {},
     "output_type": "execute_result"
    }
   ],
   "source": [
    "sum([duplicate_priority(rucksack) for rucksack in rucksacks])"
   ]
  },
  {
   "cell_type": "code",
   "execution_count": 5,
   "metadata": {},
   "outputs": [],
   "source": [
    "rucksacks_groups = []\n",
    "\n",
    "rucksacks_group = []\n",
    "for idx, rucksack in enumerate(rucksacks):\n",
    "    rucksacks_group.append(rucksack)\n",
    "    \n",
    "    if (idx+1)%3 == 0:\n",
    "        rucksacks_groups.append(rucksacks_group)\n",
    "        rucksacks_group = []"
   ]
  },
  {
   "cell_type": "code",
   "execution_count": 6,
   "metadata": {},
   "outputs": [],
   "source": [
    "def group_priorities(rucksack_group):\n",
    "    duplicates = set.intersection(*[set(rucksack) for rucksack in rucksack_group])\n",
    "\n",
    "    duplicates_priorities = priority_scores(duplicates)\n",
    "\n",
    "    return sum(duplicates_priorities)"
   ]
  },
  {
   "cell_type": "code",
   "execution_count": 7,
   "metadata": {},
   "outputs": [
    {
     "data": {
      "text/plain": [
       "2616"
      ]
     },
     "execution_count": 7,
     "metadata": {},
     "output_type": "execute_result"
    }
   ],
   "source": [
    "sum([group_priorities(rucksacks_group) for rucksacks_group in rucksacks_groups])"
   ]
  },
  {
   "cell_type": "code",
   "execution_count": null,
   "metadata": {},
   "outputs": [],
   "source": []
  }
 ],
 "metadata": {
  "kernelspec": {
   "display_name": "Python 3.8.6 64-bit ('tableau')",
   "language": "python",
   "name": "python3"
  },
  "language_info": {
   "codemirror_mode": {
    "name": "ipython",
    "version": 3
   },
   "file_extension": ".py",
   "mimetype": "text/x-python",
   "name": "python",
   "nbconvert_exporter": "python",
   "pygments_lexer": "ipython3",
   "version": "3.8.6"
  },
  "orig_nbformat": 4,
  "vscode": {
   "interpreter": {
    "hash": "78452bdca54167cdf4afc751ff44535ca511fe59956feffcad8d8d2535e0bd29"
   }
  }
 },
 "nbformat": 4,
 "nbformat_minor": 2
}
