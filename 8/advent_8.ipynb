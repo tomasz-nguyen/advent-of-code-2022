{
 "cells": [
  {
   "cell_type": "code",
   "execution_count": 1,
   "metadata": {},
   "outputs": [],
   "source": [
    "import numpy as np"
   ]
  },
  {
   "cell_type": "code",
   "execution_count": 2,
   "metadata": {},
   "outputs": [],
   "source": [
    "with open(\"input.txt\") as file:\n",
    "    lines = file.read().splitlines()"
   ]
  },
  {
   "cell_type": "code",
   "execution_count": 3,
   "metadata": {},
   "outputs": [],
   "source": [
    "tree_arr = np.array([list(line) for line in lines]).astype(int)"
   ]
  },
  {
   "cell_type": "code",
   "execution_count": 4,
   "metadata": {},
   "outputs": [],
   "source": [
    "def direction_score(value, direction_arr, reverse=False):\n",
    "    if reverse:\n",
    "        lst = list(reversed(direction_arr))\n",
    "    else:\n",
    "        lst = direction_arr\n",
    "\n",
    "    if max(lst) >= value:\n",
    "        score = min([idx+1 for idx, x in enumerate(lst) if value <= x ])\n",
    "    else:\n",
    "        score = len(lst)\n",
    "\n",
    "    return score"
   ]
  },
  {
   "cell_type": "code",
   "execution_count": 5,
   "metadata": {},
   "outputs": [],
   "source": [
    "arr_size = len(tree_arr)\n",
    "visible_trees_arr = np.zeros((arr_size, arr_size)).astype(int)\n",
    "view_arr = np.zeros((arr_size, arr_size)).astype(int)\n",
    "\n",
    "for index, value in np.ndenumerate(tree_arr):\n",
    "    visibility = 0\n",
    "    \n",
    "    # Borders\n",
    "    if index[0] in [0, arr_size-1] or index[1] in [0, arr_size-1]:\n",
    "        visibility = 1\n",
    "        scenic_score = 0\n",
    "\n",
    "    # Other trees\n",
    "    else:\n",
    "        left = tree_arr[index[0], :index[1]]\n",
    "        right = tree_arr[index[0], index[1]+1:]\n",
    "        up = tree_arr[:index[0], index[1]]\n",
    "        down = tree_arr[index[0]+1:, index[1]]\n",
    "        \n",
    "        if any(value > i for i in [max(left), max(right), max(up), max(down)]):\n",
    "            visibility = 1\n",
    "\n",
    "        up_score = direction_score(value, up, reverse=True)\n",
    "        down_score = direction_score(value, down, reverse=False)\n",
    "        left_score = direction_score(value, left, reverse=True)\n",
    "        right_score = direction_score(value, right, reverse=False)\n",
    "        scenic_score = up_score * down_score * left_score * right_score\n",
    "\n",
    "    visible_trees_arr[index[0],index[1]] = visibility\n",
    "    view_arr[index[0],index[1]] = scenic_score"
   ]
  },
  {
   "cell_type": "code",
   "execution_count": 6,
   "metadata": {},
   "outputs": [
    {
     "data": {
      "text/plain": [
       "1776"
      ]
     },
     "execution_count": 6,
     "metadata": {},
     "output_type": "execute_result"
    }
   ],
   "source": [
    "visible_trees_arr.sum()"
   ]
  },
  {
   "cell_type": "code",
   "execution_count": 7,
   "metadata": {},
   "outputs": [
    {
     "data": {
      "text/plain": [
       "234416"
      ]
     },
     "execution_count": 7,
     "metadata": {},
     "output_type": "execute_result"
    }
   ],
   "source": [
    "view_arr.max()"
   ]
  }
 ],
 "metadata": {
  "kernelspec": {
   "display_name": "Python 3.9.7 64-bit",
   "language": "python",
   "name": "python3"
  },
  "language_info": {
   "codemirror_mode": {
    "name": "ipython",
    "version": 3
   },
   "file_extension": ".py",
   "mimetype": "text/x-python",
   "name": "python",
   "nbconvert_exporter": "python",
   "pygments_lexer": "ipython3",
   "version": "3.9.7"
  },
  "orig_nbformat": 4,
  "vscode": {
   "interpreter": {
    "hash": "4e7ba3a8f915c95f7292b17fe3e81a2870adf22cf1c5db869767919356952299"
   }
  }
 },
 "nbformat": 4,
 "nbformat_minor": 2
}
