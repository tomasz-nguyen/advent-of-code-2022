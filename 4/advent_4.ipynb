{
 "cells": [
  {
   "cell_type": "code",
   "execution_count": 6,
   "metadata": {},
   "outputs": [],
   "source": [
    "with open('input.txt') as f:\n",
    "    lines = f.readlines()\n",
    "\n",
    "assignments = [line.replace(\"\\n\",\"\").split(\",\") for line in lines]"
   ]
  },
  {
   "cell_type": "code",
   "execution_count": 20,
   "metadata": {},
   "outputs": [],
   "source": [
    "def start_end(section):\n",
    "    start = int(section.split(\"-\")[0])\n",
    "    end = int(section.split(\"-\")[1])\n",
    "    \n",
    "    return start, end"
   ]
  },
  {
   "cell_type": "code",
   "execution_count": 51,
   "metadata": {},
   "outputs": [],
   "source": [
    "def assignment(start, end):\n",
    "    return set([*range(start, end+1, 1)])"
   ]
  },
  {
   "cell_type": "code",
   "execution_count": 52,
   "metadata": {},
   "outputs": [],
   "source": [
    "full_overlap = []\n",
    "partial_overlap = []\n",
    "\n",
    "for pair in assignments:\n",
    "    elf_1_start, elf_1_end = start_end(pair[0])\n",
    "    elf_2_start, elf_2_end = start_end(pair[1])\n",
    "\n",
    "    elf_1 = assignment(elf_1_start, elf_1_end)\n",
    "    elf_2 = assignment(elf_2_start, elf_2_end)\n",
    "\n",
    "    overlap = set.intersection(elf_1, elf_2)\n",
    "\n",
    "    if overlap:\n",
    "        partial_overlap.append(pair)\n",
    "        if overlap in [elf_1, elf_2]:\n",
    "            full_overlap.append(pair)"
   ]
  },
  {
   "cell_type": "code",
   "execution_count": 53,
   "metadata": {},
   "outputs": [
    {
     "data": {
      "text/plain": [
       "569"
      ]
     },
     "execution_count": 53,
     "metadata": {},
     "output_type": "execute_result"
    }
   ],
   "source": [
    "len(full_overlap)"
   ]
  },
  {
   "cell_type": "code",
   "execution_count": 54,
   "metadata": {},
   "outputs": [
    {
     "data": {
      "text/plain": [
       "936"
      ]
     },
     "execution_count": 54,
     "metadata": {},
     "output_type": "execute_result"
    }
   ],
   "source": [
    "len(partial_overlap)"
   ]
  },
  {
   "cell_type": "code",
   "execution_count": null,
   "metadata": {},
   "outputs": [],
   "source": []
  }
 ],
 "metadata": {
  "kernelspec": {
   "display_name": "Python 3.8.6 64-bit ('tableau')",
   "language": "python",
   "name": "python3"
  },
  "language_info": {
   "codemirror_mode": {
    "name": "ipython",
    "version": 3
   },
   "file_extension": ".py",
   "mimetype": "text/x-python",
   "name": "python",
   "nbconvert_exporter": "python",
   "pygments_lexer": "ipython3",
   "version": "3.8.6"
  },
  "orig_nbformat": 4,
  "vscode": {
   "interpreter": {
    "hash": "78452bdca54167cdf4afc751ff44535ca511fe59956feffcad8d8d2535e0bd29"
   }
  }
 },
 "nbformat": 4,
 "nbformat_minor": 2
}
