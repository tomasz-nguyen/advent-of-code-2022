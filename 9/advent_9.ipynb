{
 "cells": [
  {
   "cell_type": "code",
   "execution_count": 1,
   "metadata": {},
   "outputs": [],
   "source": [
    "with open(\"input.txt\") as file:\n",
    "    lines = file.read().splitlines()"
   ]
  },
  {
   "cell_type": "code",
   "execution_count": 2,
   "metadata": {},
   "outputs": [],
   "source": [
    "def get_detailed_instructions(instructions):\n",
    "    moves = []\n",
    "\n",
    "    for instruction in instructions:\n",
    "        direction, steps = instruction.split(\" \")\n",
    "        moves.extend(direction for i in range(int(steps)))\n",
    "\n",
    "    return moves"
   ]
  },
  {
   "cell_type": "code",
   "execution_count": 3,
   "metadata": {},
   "outputs": [],
   "source": [
    "detailed_instructions = get_detailed_instructions(lines)"
   ]
  },
  {
   "cell_type": "code",
   "execution_count": 4,
   "metadata": {},
   "outputs": [],
   "source": [
    "def get_head_move(instruction):\n",
    "    if instruction == \"U\":\n",
    "        move = (0, 1)\n",
    "    elif instruction == \"D\":\n",
    "        move = (0, -1)\n",
    "    elif instruction == \"R\":\n",
    "        move = (1, 0)\n",
    "    elif instruction == \"L\":\n",
    "        move = (-1, 0)    \n",
    "\n",
    "    return move"
   ]
  },
  {
   "cell_type": "code",
   "execution_count": 66,
   "metadata": {},
   "outputs": [],
   "source": [
    "def get_segment_move(horizontal_difference, vertical_difference):\n",
    "    \n",
    "    if vertical_difference == 0:\n",
    "        if horizontal_difference > 1:\n",
    "            move = (1, 0)\n",
    "        elif horizontal_difference < -1:\n",
    "            move = (-1, 0)\n",
    "        elif horizontal_difference in [-1, 0, 1]:\n",
    "            move = (0, 0)\n",
    "\n",
    "    elif horizontal_difference == 0:\n",
    "        if vertical_difference > 1:\n",
    "            move = (0, 1)\n",
    "        elif vertical_difference < -1:\n",
    "            move = (0, -1)\n",
    "        elif vertical_difference in [-1, 0, 1]:\n",
    "            move = (0, 0)\n",
    "\n",
    "    elif vertical_difference == 1:\n",
    "        if horizontal_difference > 1:\n",
    "            move = (1, 1)\n",
    "        elif horizontal_difference < -1:\n",
    "            move = (-1, 1)\n",
    "        elif horizontal_difference in [-1, 0, 1]:\n",
    "            move = (0, 0)\n",
    "\n",
    "    elif vertical_difference > 1:\n",
    "        if horizontal_difference > 1:\n",
    "            move = (1, 1)\n",
    "        elif horizontal_difference < -1:\n",
    "            move = (-1, 1)\n",
    "        elif horizontal_difference in [-1, 0, 1]:\n",
    "            move = (horizontal_difference, 1)\n",
    "    \n",
    "    elif vertical_difference == -1:\n",
    "        if horizontal_difference > 1:\n",
    "            move = (horizontal_difference-1, -1)\n",
    "        elif horizontal_difference < -1:\n",
    "            move = (horizontal_difference+1, -1)\n",
    "        elif horizontal_difference in [-1, 0, 1]:\n",
    "            move = (0, 0) \n",
    "\n",
    "    elif vertical_difference < -1:\n",
    "        if horizontal_difference > 1:\n",
    "            move = (1, -1)\n",
    "        elif horizontal_difference < -1:\n",
    "            move = (-1, -1)\n",
    "        elif horizontal_difference in [-1, 0, 1]:\n",
    "            move = (horizontal_difference, -1)\n",
    "        \n",
    "    return move"
   ]
  },
  {
   "cell_type": "code",
   "execution_count": 68,
   "metadata": {},
   "outputs": [],
   "source": [
    "def simulate_rope(knots, instructions):\n",
    "    knots_number = knots\n",
    "    knots_positions = [[(0, 0) for i in range(knots_number)]]\n",
    "\n",
    "    for instruction in instructions:\n",
    "        last_knots_positions = knots_positions[-1]\n",
    "\n",
    "        head_last = last_knots_positions[0]\n",
    "        other_knots = last_knots_positions[1:]\n",
    "\n",
    "        head_move = get_head_move(instruction)\n",
    "        head_new = (head_last[0]+head_move[0], head_last[1]+head_move[1])\n",
    "\n",
    "        track = [head_new]\n",
    "        \n",
    "        last_move = head_new\n",
    "        for knot in other_knots:\n",
    "            horizontal_difference = last_move[0] - knot[0]\n",
    "            vertical_difference = last_move[1] - knot[1]\n",
    "\n",
    "            knot_move = get_segment_move(horizontal_difference, vertical_difference)\n",
    "            knot_new = (knot[0]+knot_move[0], knot[1]+knot_move[1])\n",
    "            \n",
    "            track.append(knot_new)\n",
    "            last_move = knot_new\n",
    "\n",
    "        knots_positions.append(track)\n",
    "\n",
    "    return knots_positions"
   ]
  },
  {
   "cell_type": "code",
   "execution_count": 72,
   "metadata": {},
   "outputs": [
    {
     "data": {
      "text/plain": [
       "6464"
      ]
     },
     "execution_count": 72,
     "metadata": {},
     "output_type": "execute_result"
    }
   ],
   "source": [
    "knot_2 = simulate_rope(2, detailed_instructions)\n",
    "len(set([x[-1] for x in knot_2]))"
   ]
  },
  {
   "cell_type": "code",
   "execution_count": 73,
   "metadata": {},
   "outputs": [
    {
     "data": {
      "text/plain": [
       "2604"
      ]
     },
     "execution_count": 73,
     "metadata": {},
     "output_type": "execute_result"
    }
   ],
   "source": [
    "knot_10 = simulate_rope(10, detailed_instructions)\n",
    "len(set([x[-1] for x in knot_10]))"
   ]
  },
  {
   "cell_type": "code",
   "execution_count": null,
   "metadata": {},
   "outputs": [],
   "source": []
  }
 ],
 "metadata": {
  "kernelspec": {
   "display_name": "Python 3",
   "language": "python",
   "name": "python3"
  },
  "language_info": {
   "codemirror_mode": {
    "name": "ipython",
    "version": 3
   },
   "file_extension": ".py",
   "mimetype": "text/x-python",
   "name": "python",
   "nbconvert_exporter": "python",
   "pygments_lexer": "ipython3",
   "version": "3.9.7"
  },
  "orig_nbformat": 4,
  "vscode": {
   "interpreter": {
    "hash": "4e7ba3a8f915c95f7292b17fe3e81a2870adf22cf1c5db869767919356952299"
   }
  }
 },
 "nbformat": 4,
 "nbformat_minor": 2
}
