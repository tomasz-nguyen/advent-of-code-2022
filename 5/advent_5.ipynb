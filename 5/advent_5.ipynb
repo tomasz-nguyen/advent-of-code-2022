{
 "cells": [
  {
   "cell_type": "code",
   "execution_count": 1,
   "metadata": {},
   "outputs": [],
   "source": [
    "from copy import deepcopy"
   ]
  },
  {
   "cell_type": "code",
   "execution_count": 2,
   "metadata": {},
   "outputs": [],
   "source": [
    "with open('input.txt') as f:\n",
    "    lines = f.readlines()"
   ]
  },
  {
   "cell_type": "code",
   "execution_count": 3,
   "metadata": {},
   "outputs": [],
   "source": [
    "stacks = [line.replace(\"\\n\", \"\") for line in lines[:lines.index(\"\\n\")]]\n",
    "moves = [line.replace(\"\\n\", \"\") for line in lines[lines.index(\"\\n\")+1:]]"
   ]
  },
  {
   "cell_type": "code",
   "execution_count": 4,
   "metadata": {},
   "outputs": [],
   "source": [
    "stacks_dict = {}\n",
    "stacks_valid = {}\n",
    "\n",
    "for idx, s in enumerate(list(reversed(stacks))[0]):\n",
    "    if s != \" \":\n",
    "        stacks_dict[idx] = int(s)\n",
    "        stacks_valid[idx] = []"
   ]
  },
  {
   "cell_type": "code",
   "execution_count": 5,
   "metadata": {},
   "outputs": [],
   "source": [
    "for stack_level in list(reversed(stacks))[1:]:\n",
    "    for idx, s in enumerate(stack_level):\n",
    "        if idx in stacks_valid.keys() and s != \" \":\n",
    "            stacks_valid[idx].append(s)"
   ]
  },
  {
   "cell_type": "code",
   "execution_count": 6,
   "metadata": {},
   "outputs": [],
   "source": [
    "stacks_clean = {stacks_dict[key] : value for key, value in stacks_valid.items()}"
   ]
  },
  {
   "cell_type": "code",
   "execution_count": 7,
   "metadata": {},
   "outputs": [],
   "source": [
    "def read_move(instructions):\n",
    "    instructions_split = instructions.split(\" \")\n",
    "    quantity_crate, from_crate, to_crate = int(instructions_split[1]), int(instructions_split[3]), int(instructions_split[5])\n",
    "\n",
    "    return quantity_crate, from_crate, to_crate"
   ]
  },
  {
   "cell_type": "code",
   "execution_count": 8,
   "metadata": {},
   "outputs": [],
   "source": [
    "# Part 1\n",
    "simulation_1 = deepcopy(stacks_clean)\n",
    "for move in moves:\n",
    "    quantity_crate, from_crate, to_crate = read_move(move)\n",
    "\n",
    "    for crate in range(quantity_crate):\n",
    "        simulation_1[to_crate].append(simulation_1[from_crate].pop())"
   ]
  },
  {
   "cell_type": "code",
   "execution_count": 9,
   "metadata": {},
   "outputs": [
    {
     "data": {
      "text/plain": [
       "['C', 'F', 'F', 'H', 'V', 'V', 'H', 'N', 'C']"
      ]
     },
     "execution_count": 9,
     "metadata": {},
     "output_type": "execute_result"
    }
   ],
   "source": [
    "stack_tops_1 = [crates[-1] for stack, crates in simulation_1.items()]\n",
    "stack_tops_1"
   ]
  },
  {
   "cell_type": "code",
   "execution_count": 10,
   "metadata": {},
   "outputs": [],
   "source": [
    "# Part 2\n",
    "simulation_2 = deepcopy(stacks_clean)\n",
    "\n",
    "for move in moves:\n",
    "    quantity_crate, from_crate, to_crate = read_move(move)\n",
    "\n",
    "    crates_moved = simulation_2[from_crate][-quantity_crate:]\n",
    "    simulation_2[from_crate] = simulation_2[from_crate][:-quantity_crate]\n",
    "    simulation_2[to_crate].extend(crates_moved)"
   ]
  },
  {
   "cell_type": "code",
   "execution_count": 11,
   "metadata": {},
   "outputs": [
    {
     "data": {
      "text/plain": [
       "['F', 'S', 'Z', 'W', 'B', 'P', 'T', 'B', 'G']"
      ]
     },
     "execution_count": 11,
     "metadata": {},
     "output_type": "execute_result"
    }
   ],
   "source": [
    "stack_tops_2 = [crates[-1] for stack, crates in simulation_2.items()]\n",
    "stack_tops_2"
   ]
  }
 ],
 "metadata": {
  "kernelspec": {
   "display_name": "Python 3.9.7 64-bit",
   "language": "python",
   "name": "python3"
  },
  "language_info": {
   "codemirror_mode": {
    "name": "ipython",
    "version": 3
   },
   "file_extension": ".py",
   "mimetype": "text/x-python",
   "name": "python",
   "nbconvert_exporter": "python",
   "pygments_lexer": "ipython3",
   "version": "3.9.7"
  },
  "orig_nbformat": 4,
  "vscode": {
   "interpreter": {
    "hash": "4e7ba3a8f915c95f7292b17fe3e81a2870adf22cf1c5db869767919356952299"
   }
  }
 },
 "nbformat": 4,
 "nbformat_minor": 2
}
