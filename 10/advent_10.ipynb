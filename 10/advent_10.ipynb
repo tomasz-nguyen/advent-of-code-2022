{
 "cells": [
  {
   "cell_type": "code",
   "execution_count": 1,
   "metadata": {},
   "outputs": [],
   "source": [
    "with open(\"input.txt\") as file:\n",
    "    lines = file.read().splitlines()"
   ]
  },
  {
   "cell_type": "code",
   "execution_count": 2,
   "metadata": {},
   "outputs": [],
   "source": [
    "cycles = []\n",
    "\n",
    "cycle = 1 \n",
    "x = 1\n",
    "for line in lines:\n",
    "    if line == \"noop\":\n",
    "        cycles.append((cycle, x))\n",
    "        cycle += 1\n",
    "    else:\n",
    "        for i in range(2):\n",
    "            cycles.append((cycle, x))\n",
    "            cycle +=1\n",
    "        x = x + (v:= int(line.split(\" \")[1]))"
   ]
  },
  {
   "cell_type": "code",
   "execution_count": 3,
   "metadata": {},
   "outputs": [
    {
     "data": {
      "text/plain": [
       "12460"
      ]
     },
     "execution_count": 3,
     "metadata": {},
     "output_type": "execute_result"
    }
   ],
   "source": [
    "sum([cycle_n*(x:=cycle[1]) for cycle in cycles if (cycle_n:=cycle[0]) in (checked_cycles:=[20, 60, 100, 140, 180, 220])])"
   ]
  },
  {
   "cell_type": "code",
   "execution_count": 4,
   "metadata": {},
   "outputs": [],
   "source": [
    "pixels_per_line = 40\n",
    "\n",
    "def generate_sprite(x, line_pixels):\n",
    "    sprite_position = [\".\" for i in range(x-1)]\n",
    "    sprite_position.extend(\"###\")\n",
    "    sprite_position.extend(\".\" for i in range(line_pixels-2-x))\n",
    "    return \"\".join(sprite_position)"
   ]
  },
  {
   "cell_type": "code",
   "execution_count": 5,
   "metadata": {},
   "outputs": [],
   "source": [
    "cycles_line = [cycles[i:i+pixels_per_line] for i in range(0, len(cycles), pixels_per_line)]"
   ]
  },
  {
   "cell_type": "code",
   "execution_count": 6,
   "metadata": {},
   "outputs": [
    {
     "name": "stdout",
     "output_type": "stream",
     "text": [
      "# # # # . # # # # . # # # # . # # # . . # # # . . . # # . . # . . # . # . . . .\n",
      "# . . . . . . . # . # . . . . # . . # . # . . # . # . . # . # . # . . # . . . .\n",
      "# # # . . . . # . . # # # . . # . . # . # . . # . # . . # . # # . . . # . . . .\n",
      "# # # . . . # . . . # . . . . # # # . . # # # . . # # # # . # . # . . # . . . .\n",
      "# . . . . # . . . . # . . . . # . . . . # . # . . # . . # . # . # . . # . . . .\n",
      "# # # # . # # # # . # . . . . # . . . . # . . # . # . . # . # . . # . # # # # .\n"
     ]
    }
   ],
   "source": [
    "for screen_line in cycles_line:\n",
    "    screen_pixels = []\n",
    "    for idx, cycle in enumerate(screen_line):\n",
    "        sprite = generate_sprite(cycle[1], pixels_per_line)\n",
    "        screen_pixels.append(sprite[idx])\n",
    "    print(\" \".join(screen_pixels))"
   ]
  },
  {
   "cell_type": "code",
   "execution_count": null,
   "metadata": {},
   "outputs": [],
   "source": []
  }
 ],
 "metadata": {
  "kernelspec": {
   "display_name": "Python 3.8.6 64-bit ('tableau')",
   "language": "python",
   "name": "python3"
  },
  "language_info": {
   "codemirror_mode": {
    "name": "ipython",
    "version": 3
   },
   "file_extension": ".py",
   "mimetype": "text/x-python",
   "name": "python",
   "nbconvert_exporter": "python",
   "pygments_lexer": "ipython3",
   "version": "3.8.6"
  },
  "orig_nbformat": 4,
  "vscode": {
   "interpreter": {
    "hash": "78452bdca54167cdf4afc751ff44535ca511fe59956feffcad8d8d2535e0bd29"
   }
  }
 },
 "nbformat": 4,
 "nbformat_minor": 2
}
